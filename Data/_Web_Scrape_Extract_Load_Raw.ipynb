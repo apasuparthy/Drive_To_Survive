{
 "cells": [
  {
   "cell_type": "code",
   "execution_count": 1,
   "id": "def63a51-69fa-4b52-ad23-2543d3a313e2",
   "metadata": {},
   "outputs": [
    {
     "name": "stdout",
     "output_type": "stream",
     "text": [
      "Requirement already satisfied: praw in /opt/anaconda3/lib/python3.11/site-packages (7.8.1)\n",
      "Requirement already satisfied: prawcore<3,>=2.4 in /opt/anaconda3/lib/python3.11/site-packages (from praw) (2.4.0)\n",
      "Requirement already satisfied: update_checker>=0.18 in /opt/anaconda3/lib/python3.11/site-packages (from praw) (0.18.0)\n",
      "Requirement already satisfied: websocket-client>=0.54.0 in /opt/anaconda3/lib/python3.11/site-packages (from praw) (0.58.0)\n",
      "Requirement already satisfied: requests<3.0,>=2.6.0 in /opt/anaconda3/lib/python3.11/site-packages (from prawcore<3,>=2.4->praw) (2.32.3)\n",
      "Requirement already satisfied: six in /opt/anaconda3/lib/python3.11/site-packages (from websocket-client>=0.54.0->praw) (1.16.0)\n",
      "Requirement already satisfied: charset-normalizer<4,>=2 in /opt/anaconda3/lib/python3.11/site-packages (from requests<3.0,>=2.6.0->prawcore<3,>=2.4->praw) (2.0.4)\n",
      "Requirement already satisfied: idna<4,>=2.5 in /opt/anaconda3/lib/python3.11/site-packages (from requests<3.0,>=2.6.0->prawcore<3,>=2.4->praw) (3.4)\n",
      "Requirement already satisfied: urllib3<3,>=1.21.1 in /opt/anaconda3/lib/python3.11/site-packages (from requests<3.0,>=2.6.0->prawcore<3,>=2.4->praw) (2.0.7)\n",
      "Requirement already satisfied: certifi>=2017.4.17 in /opt/anaconda3/lib/python3.11/site-packages (from requests<3.0,>=2.6.0->prawcore<3,>=2.4->praw) (2024.8.30)\n"
     ]
    }
   ],
   "source": [
    "!pip install praw\n",
    "import praw\n",
    "import pandas as pd\n",
    "import time"
   ]
  },
  {
   "cell_type": "code",
   "execution_count": 6,
   "id": "9fbbf18d-39f9-431f-aaa3-b8473dbc810d",
   "metadata": {},
   "outputs": [
    {
     "name": "stdout",
     "output_type": "stream",
     "text": [
      "Wrote 127 threads to formula1_threads.csv\n"
     ]
    }
   ],
   "source": [
    "import requests\n",
    "import csv\n",
    "import time\n",
    "\n",
    "def fetch_all_threads(subreddit, max_pages=10, delay=2):\n",
    "    headers = {'User-Agent': 'RedditScraper/1.0'}\n",
    "    base_url = f'https://www.reddit.com/r/formula1/.json'\n",
    "    after = None\n",
    "    all_posts = []\n",
    "\n",
    "    for _ in range(max_pages):\n",
    "        url = base_url + (f'?after={after}' if after else '')\n",
    "        response = requests.get(url, headers=headers)\n",
    "\n",
    "        if response.status_code != 200:\n",
    "            print(f\"Failed to fetch data: {response.status_code}\")\n",
    "            break\n",
    "\n",
    "        data = response.json()\n",
    "        posts = data['data']['children']\n",
    "        all_posts.extend([post['data'] for post in posts])\n",
    "\n",
    "        after = data['data'].get('after')\n",
    "        if not after:\n",
    "            break\n",
    "\n",
    "        time.sleep(delay)\n",
    "\n",
    "    return all_posts\n",
    "\n",
    "def write_to_csv(posts, filename):\n",
    "    with open(filename, mode='w', newline='', encoding='utf-8') as csv_file:\n",
    "        writer = csv.DictWriter(csv_file, fieldnames=['title', 'selftext'])\n",
    "        writer.writeheader()\n",
    "\n",
    "        for post in posts:\n",
    "            writer.writerow({\n",
    "                'title': post.get('title', '').replace('\\n', ' ').strip(),\n",
    "                'selftext': post.get('selftext', '').replace('\\n', ' ').strip()\n",
    "            })\n",
    "\n",
    "# Usage\n",
    "subreddit = 'formula1'\n",
    "threads = fetch_all_threads(subreddit, max_pages=5)\n",
    "csv_filename = f'{subreddit}_threads.csv'\n",
    "\n",
    "write_to_csv(threads, csv_filename)\n",
    "print(f\"Wrote {len(threads)} threads to {csv_filename}\")"
   ]
  }
 ],
 "metadata": {
  "kernelspec": {
   "display_name": "Python 3 (ipykernel)",
   "language": "python",
   "name": "python3"
  },
  "language_info": {
   "codemirror_mode": {
    "name": "ipython",
    "version": 3
   },
   "file_extension": ".py",
   "mimetype": "text/x-python",
   "name": "python",
   "nbconvert_exporter": "python",
   "pygments_lexer": "ipython3",
   "version": "3.11.7"
  }
 },
 "nbformat": 4,
 "nbformat_minor": 5
}
