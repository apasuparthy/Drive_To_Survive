{
 "cells": [
  {
   "cell_type": "code",
   "execution_count": 1,
   "id": "f3655bcc-978f-44da-93e7-b9afe8ef8526",
   "metadata": {},
   "outputs": [
    {
     "name": "stdout",
     "output_type": "stream",
     "text": [
      "Requirement already satisfied: praw in /opt/anaconda3/lib/python3.11/site-packages (7.8.1)\n",
      "Requirement already satisfied: pandas in /opt/anaconda3/lib/python3.11/site-packages (2.1.4)\n",
      "Requirement already satisfied: prawcore<3,>=2.4 in /opt/anaconda3/lib/python3.11/site-packages (from praw) (2.4.0)\n",
      "Requirement already satisfied: update_checker>=0.18 in /opt/anaconda3/lib/python3.11/site-packages (from praw) (0.18.0)\n",
      "Requirement already satisfied: websocket-client>=0.54.0 in /opt/anaconda3/lib/python3.11/site-packages (from praw) (0.58.0)\n",
      "Requirement already satisfied: numpy<2,>=1.23.2 in /opt/anaconda3/lib/python3.11/site-packages (from pandas) (1.26.4)\n",
      "Requirement already satisfied: python-dateutil>=2.8.2 in /opt/anaconda3/lib/python3.11/site-packages (from pandas) (2.8.2)\n",
      "Requirement already satisfied: pytz>=2020.1 in /opt/anaconda3/lib/python3.11/site-packages (from pandas) (2023.3.post1)\n",
      "Requirement already satisfied: tzdata>=2022.1 in /opt/anaconda3/lib/python3.11/site-packages (from pandas) (2023.3)\n",
      "Requirement already satisfied: requests<3.0,>=2.6.0 in /opt/anaconda3/lib/python3.11/site-packages (from prawcore<3,>=2.4->praw) (2.32.3)\n",
      "Requirement already satisfied: six>=1.5 in /opt/anaconda3/lib/python3.11/site-packages (from python-dateutil>=2.8.2->pandas) (1.16.0)\n",
      "Requirement already satisfied: charset-normalizer<4,>=2 in /opt/anaconda3/lib/python3.11/site-packages (from requests<3.0,>=2.6.0->prawcore<3,>=2.4->praw) (2.0.4)\n",
      "Requirement already satisfied: idna<4,>=2.5 in /opt/anaconda3/lib/python3.11/site-packages (from requests<3.0,>=2.6.0->prawcore<3,>=2.4->praw) (3.4)\n",
      "Requirement already satisfied: urllib3<3,>=1.21.1 in /opt/anaconda3/lib/python3.11/site-packages (from requests<3.0,>=2.6.0->prawcore<3,>=2.4->praw) (2.0.7)\n",
      "Requirement already satisfied: certifi>=2017.4.17 in /opt/anaconda3/lib/python3.11/site-packages (from requests<3.0,>=2.6.0->prawcore<3,>=2.4->praw) (2024.8.30)\n",
      "Requirement already satisfied: pandas in /opt/anaconda3/lib/python3.11/site-packages (2.1.4)\n",
      "Requirement already satisfied: requests in /opt/anaconda3/lib/python3.11/site-packages (2.32.3)\n",
      "Requirement already satisfied: numpy<2,>=1.23.2 in /opt/anaconda3/lib/python3.11/site-packages (from pandas) (1.26.4)\n",
      "Requirement already satisfied: python-dateutil>=2.8.2 in /opt/anaconda3/lib/python3.11/site-packages (from pandas) (2.8.2)\n",
      "Requirement already satisfied: pytz>=2020.1 in /opt/anaconda3/lib/python3.11/site-packages (from pandas) (2023.3.post1)\n",
      "Requirement already satisfied: tzdata>=2022.1 in /opt/anaconda3/lib/python3.11/site-packages (from pandas) (2023.3)\n",
      "Requirement already satisfied: charset-normalizer<4,>=2 in /opt/anaconda3/lib/python3.11/site-packages (from requests) (2.0.4)\n",
      "Requirement already satisfied: idna<4,>=2.5 in /opt/anaconda3/lib/python3.11/site-packages (from requests) (3.4)\n",
      "Requirement already satisfied: urllib3<3,>=1.21.1 in /opt/anaconda3/lib/python3.11/site-packages (from requests) (2.0.7)\n",
      "Requirement already satisfied: certifi>=2017.4.17 in /opt/anaconda3/lib/python3.11/site-packages (from requests) (2024.8.30)\n",
      "Requirement already satisfied: six>=1.5 in /opt/anaconda3/lib/python3.11/site-packages (from python-dateutil>=2.8.2->pandas) (1.16.0)\n"
     ]
    }
   ],
   "source": [
    "!pip install praw pandas\n",
    "!pip install pandas requests\n",
    "!pip install -q praw\n",
    "import time\n",
    "import requests\n",
    "import pandas as pd\n",
    "from sqlalchemy import create_engine"
   ]
  },
  {
   "cell_type": "code",
   "execution_count": 2,
   "id": "3cf5a6fc-36ab-4c8b-bb54-14b1d3d9f7a0",
   "metadata": {},
   "outputs": [],
   "source": [
    "# PostgreSQL credentials\n",
    "user = 'postgres'\n",
    "password = 'isba_4715'\n",
    "host = 'isba-dev-2.cmnkiiuu8i4w.us-east-1.rds.amazonaws.com'\n",
    "port = '5432'\n",
    "database = 'sql_project'\n",
    "\n",
    "# Create engine string\n",
    "pg_conn_str = f\"postgresql+psycopg2://{user}:{password}@{host}:{port}/{database}\"\n",
    "engine = create_engine(pg_conn_str)"
   ]
  },
  {
   "cell_type": "code",
   "execution_count": 3,
   "id": "3cb81711-ef3d-4df3-82af-7e4a8f6f23fc",
   "metadata": {},
   "outputs": [
    {
     "name": "stdout",
     "output_type": "stream",
     "text": [
      "Wrote 127 threads to formula1_threads.csv\n"
     ]
    }
   ],
   "source": [
    "import requests\n",
    "import csv\n",
    "import time\n",
    "\n",
    "def fetch_all_threads(subreddit, max_pages=10, delay=2):\n",
    "    headers = {'User-Agent': 'RedditScraper/1.0'}\n",
    "    base_url = f'https://www.reddit.com/r/formula1/.json'\n",
    "    after = None\n",
    "    all_posts = []\n",
    "\n",
    "    for _ in range(max_pages):\n",
    "        url = base_url + (f'?after={after}' if after else '')\n",
    "        response = requests.get(url, headers=headers)\n",
    "\n",
    "        if response.status_code != 200:\n",
    "            print(f\"Failed to fetch data: {response.status_code}\")\n",
    "            break\n",
    "\n",
    "        data = response.json()\n",
    "        posts = data['data']['children']\n",
    "        all_posts.extend([post['data'] for post in posts])\n",
    "\n",
    "        after = data['data'].get('after')\n",
    "        if not after:\n",
    "            break\n",
    "\n",
    "        time.sleep(delay)\n",
    "\n",
    "    return all_posts\n",
    "\n",
    "def write_to_csv(posts, filename):\n",
    "    with open(filename, mode='w', newline='', encoding='utf-8') as csv_file:\n",
    "        writer = csv.DictWriter(csv_file, fieldnames=['title', 'selftext'])\n",
    "        writer.writeheader()\n",
    "\n",
    "        for post in posts:\n",
    "            writer.writerow({\n",
    "                'title': post.get('title', '').replace('\\n', ' ').strip(),\n",
    "                'selftext': post.get('selftext', '').replace('\\n', ' ').strip()\n",
    "            })\n",
    "\n",
    "# Usage\n",
    "subreddit = 'formula1'\n",
    "threads = fetch_all_threads(subreddit, max_pages=5)\n",
    "csv_filename = f'{subreddit}_threads.csv'\n",
    "\n",
    "write_to_csv(threads, csv_filename)\n",
    "print(f\"Wrote {len(threads)} threads to {csv_filename}\")"
   ]
  },
  {
   "cell_type": "code",
   "execution_count": 4,
   "id": "923765f0-321e-4dd0-bc45-3684047e3767",
   "metadata": {},
   "outputs": [],
   "source": [
    "# Convert threads (list of dicts) into a DataFrame\n",
    "df_web_scraped = pd.DataFrame(threads)"
   ]
  },
  {
   "cell_type": "code",
   "execution_count": 5,
   "id": "edf86feb-b9cc-4c8c-bd8f-c949e657e9b6",
   "metadata": {},
   "outputs": [
    {
     "name": "stdout",
     "output_type": "stream",
     "text": [
      "(127, 2)\n",
      "                                               title  \\\n",
      "0          2025 Saudi Arabian GP - Day After Debrief   \n",
      "1  Ask r/Formula1 Anything - Daily Discussion Thread   \n",
      "2  A small detail I noticed on the special Miami ...   \n",
      "3                       The Ferrari livery for Miami   \n",
      "4      Remember how good the Ferraris looked pre-HP?   \n",
      "\n",
      "                                            selftext  \n",
      "0  Welcome to the Day after Debrief discussion th...  \n",
      "1  # Welcome to the [r/formula1](https://www.redd...  \n",
      "2                                                NaN  \n",
      "3                                Consider me whelmed  \n",
      "4                                                NaN  \n"
     ]
    }
   ],
   "source": [
    "df_web_scrape = pd.read_csv('formula1_threads.csv')\n",
    "print(df_web_scrape.shape)\n",
    "print(df_web_scrape.head())"
   ]
  },
  {
   "cell_type": "code",
   "execution_count": 13,
   "id": "e40af5d9-dd67-42af-b756-8c2adab0f5ce",
   "metadata": {},
   "outputs": [
    {
     "name": "stdout",
     "output_type": "stream",
     "text": [
      "Web scrape CSV uploaded to PostgreSQL successfully.\n"
     ]
    }
   ],
   "source": [
    "import pandas as pd\n",
    "\n",
    "# Read CSV into DataFrame (this file was created earlier by your Reddit script)\n",
    "df_web_scrape = pd.read_csv('formula1_threads.csv')\n",
    "\n",
    "# Write to PostgreSQL in 'raw' schema\n",
    "df_web_scrape.to_sql(\n",
    "    name='web_scrape_formula1',\n",
    "    con=engine,\n",
    "    schema='raw',\n",
    "    if_exists='replace',\n",
    "    index=False\n",
    ")\n",
    "\n",
    "print(\"Web scrape CSV uploaded to PostgreSQL successfully.\")"
   ]
  }
 ],
 "metadata": {
  "kernelspec": {
   "display_name": "Python 3 (ipykernel)",
   "language": "python",
   "name": "python3"
  },
  "language_info": {
   "codemirror_mode": {
    "name": "ipython",
    "version": 3
   },
   "file_extension": ".py",
   "mimetype": "text/x-python",
   "name": "python",
   "nbconvert_exporter": "python",
   "pygments_lexer": "ipython3",
   "version": "3.11.7"
  }
 },
 "nbformat": 4,
 "nbformat_minor": 5
}
