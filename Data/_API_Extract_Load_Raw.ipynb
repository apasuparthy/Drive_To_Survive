{
  "cells": [
    {
      "cell_type": "code",
      "execution_count": 10,
      "metadata": {
        "id": "vwh4NVw9u8FB"
      },
      "outputs": [
        {
          "data": {
            "text/plain": [
              "True"
            ]
          },
          "execution_count": 10,
          "metadata": {},
          "output_type": "execute_result"
        }
      ],
      "source": [
        "import os\n",
        "import requests\n",
        "import pandas as pd\n",
        "from sqlalchemy import create_engine\n",
        "from dotenv import load_dotenv\n",
        "\n",
        "# Load environment variables from .env file\n",
        "load_dotenv()"
      ]
    },
    {
      "cell_type": "code",
      "execution_count": null,
      "metadata": {
        "id": "Sb6UlfFEVt3X"
      },
      "outputs": [],
      "source": [
        "# Retrieve credentials from environment variables\n",
        "pg_user = os.getenv('PG_USER')\n",
        "pg_password = os.getenv('PG_PASSWORD')\n",
        "pg_host = os.getenv('PG_HOST')\n",
        "pg_db = os.getenv('PG_DB')\n",
        "\n",
        "# Build the connection string\n",
        "conn_str = f\"postgresql+psycopg2://{pg_user}:{pg_password}@{pg_host}/{pg_db}\"\n",
        "engine = create_engine(conn_str)"
      ]
    },
    {
      "cell_type": "code",
      "execution_count": null,
      "metadata": {
        "id": "YefDxRsERaz1"
      },
      "outputs": [],
      "source": [
        "# Step 1: Pull Qualifying Results from F1 API (2022)\n",
        "url = \"https://ergast.com/api/f1/2022/qualifying.json?limit=1000\"\n"
      ]
    },
    {
      "cell_type": "code",
      "execution_count": 18,
      "metadata": {
        "id": "LvA1mTC6VBFC"
      },
      "outputs": [],
      "source": [
        "# Step 2: Navigate to Race results\n",
        "races = data['MRData']['RaceTable']['Races']"
      ]
    },
    {
      "cell_type": "code",
      "execution_count": 20,
      "metadata": {
        "id": "xEJmgWMWR7rK"
      },
      "outputs": [],
      "source": [
        "# Step 3: Normalize the qualifying results\n",
        "qualifying_data_2022 = []\n",
        "for race in races:\n",
        "    for result in race['QualifyingResults']:\n",
        "        qualifying_data_2022.append({\n",
        "            'season': race['season'],\n",
        "            'round': race['round'],\n",
        "            'race_name': race['raceName'],\n",
        "            'circuit': race['Circuit']['circuitName'],\n",
        "            'date': race['date'],\n",
        "            'driver': result['Driver']['familyName'],\n",
        "            'constructor': result['Constructor']['name'],\n",
        "            'position': result['position'],\n",
        "            'q1': result.get('Q1', None),\n",
        "            'q2': result.get('Q2', None),\n",
        "            'q3': result.get('Q3', None)\n",
        "        })"
      ]
    },
    {
      "cell_type": "code",
      "execution_count": 21,
      "metadata": {
        "colab": {
          "base_uri": "https://localhost:8080/",
          "height": 221
        },
        "id": "y4-owf8ASA3y",
        "outputId": "a1290685-4149-4920-e306-cf86f13208ab"
      },
      "outputs": [
        {
          "data": {
            "text/html": [
              "<div>\n",
              "<style scoped>\n",
              "    .dataframe tbody tr th:only-of-type {\n",
              "        vertical-align: middle;\n",
              "    }\n",
              "\n",
              "    .dataframe tbody tr th {\n",
              "        vertical-align: top;\n",
              "    }\n",
              "\n",
              "    .dataframe thead th {\n",
              "        text-align: right;\n",
              "    }\n",
              "</style>\n",
              "<table border=\"1\" class=\"dataframe\">\n",
              "  <thead>\n",
              "    <tr style=\"text-align: right;\">\n",
              "      <th></th>\n",
              "      <th>season</th>\n",
              "      <th>round</th>\n",
              "      <th>race_name</th>\n",
              "      <th>circuit</th>\n",
              "      <th>date</th>\n",
              "      <th>driver</th>\n",
              "      <th>constructor</th>\n",
              "      <th>position</th>\n",
              "      <th>q1</th>\n",
              "      <th>q2</th>\n",
              "      <th>q3</th>\n",
              "    </tr>\n",
              "  </thead>\n",
              "  <tbody>\n",
              "    <tr>\n",
              "      <th>0</th>\n",
              "      <td>2022</td>\n",
              "      <td>1</td>\n",
              "      <td>Bahrain Grand Prix</td>\n",
              "      <td>Bahrain International Circuit</td>\n",
              "      <td>2022-03-20</td>\n",
              "      <td>Leclerc</td>\n",
              "      <td>Ferrari</td>\n",
              "      <td>1</td>\n",
              "      <td>1:31.471</td>\n",
              "      <td>1:30.932</td>\n",
              "      <td>1:30.558</td>\n",
              "    </tr>\n",
              "    <tr>\n",
              "      <th>1</th>\n",
              "      <td>2022</td>\n",
              "      <td>1</td>\n",
              "      <td>Bahrain Grand Prix</td>\n",
              "      <td>Bahrain International Circuit</td>\n",
              "      <td>2022-03-20</td>\n",
              "      <td>Verstappen</td>\n",
              "      <td>Red Bull</td>\n",
              "      <td>2</td>\n",
              "      <td>1:31.785</td>\n",
              "      <td>1:30.757</td>\n",
              "      <td>1:30.681</td>\n",
              "    </tr>\n",
              "    <tr>\n",
              "      <th>2</th>\n",
              "      <td>2022</td>\n",
              "      <td>1</td>\n",
              "      <td>Bahrain Grand Prix</td>\n",
              "      <td>Bahrain International Circuit</td>\n",
              "      <td>2022-03-20</td>\n",
              "      <td>Sainz</td>\n",
              "      <td>Ferrari</td>\n",
              "      <td>3</td>\n",
              "      <td>1:31.567</td>\n",
              "      <td>1:30.787</td>\n",
              "      <td>1:30.687</td>\n",
              "    </tr>\n",
              "    <tr>\n",
              "      <th>3</th>\n",
              "      <td>2022</td>\n",
              "      <td>1</td>\n",
              "      <td>Bahrain Grand Prix</td>\n",
              "      <td>Bahrain International Circuit</td>\n",
              "      <td>2022-03-20</td>\n",
              "      <td>Pérez</td>\n",
              "      <td>Red Bull</td>\n",
              "      <td>4</td>\n",
              "      <td>1:32.311</td>\n",
              "      <td>1:31.008</td>\n",
              "      <td>1:30.921</td>\n",
              "    </tr>\n",
              "    <tr>\n",
              "      <th>4</th>\n",
              "      <td>2022</td>\n",
              "      <td>1</td>\n",
              "      <td>Bahrain Grand Prix</td>\n",
              "      <td>Bahrain International Circuit</td>\n",
              "      <td>2022-03-20</td>\n",
              "      <td>Hamilton</td>\n",
              "      <td>Mercedes</td>\n",
              "      <td>5</td>\n",
              "      <td>1:32.285</td>\n",
              "      <td>1:31.048</td>\n",
              "      <td>1:31.238</td>\n",
              "    </tr>\n",
              "  </tbody>\n",
              "</table>\n",
              "</div>"
            ],
            "text/plain": [
              "  season round           race_name                        circuit        date  \\\n",
              "0   2022     1  Bahrain Grand Prix  Bahrain International Circuit  2022-03-20   \n",
              "1   2022     1  Bahrain Grand Prix  Bahrain International Circuit  2022-03-20   \n",
              "2   2022     1  Bahrain Grand Prix  Bahrain International Circuit  2022-03-20   \n",
              "3   2022     1  Bahrain Grand Prix  Bahrain International Circuit  2022-03-20   \n",
              "4   2022     1  Bahrain Grand Prix  Bahrain International Circuit  2022-03-20   \n",
              "\n",
              "       driver constructor position        q1        q2        q3  \n",
              "0     Leclerc     Ferrari        1  1:31.471  1:30.932  1:30.558  \n",
              "1  Verstappen    Red Bull        2  1:31.785  1:30.757  1:30.681  \n",
              "2       Sainz     Ferrari        3  1:31.567  1:30.787  1:30.687  \n",
              "3       Pérez    Red Bull        4  1:32.311  1:31.008  1:30.921  \n",
              "4    Hamilton    Mercedes        5  1:32.285  1:31.048  1:31.238  "
            ]
          },
          "execution_count": 21,
          "metadata": {},
          "output_type": "execute_result"
        }
      ],
      "source": [
        "# Step 4: Create DataFrame\n",
        "df_qualifying_2022 = pd.DataFrame(qualifying_data_2022)\n",
        "df_qualifying_2022.head()"
      ]
    },
    {
      "cell_type": "code",
      "execution_count": 22,
      "metadata": {
        "colab": {
          "base_uri": "https://localhost:8080/"
        },
        "id": "kXGfVaWUSMgZ",
        "outputId": "c40b4ef1-9e1d-4abb-a116-88a493b59e79"
      },
      "outputs": [
        {
          "name": "stdout",
          "output_type": "stream",
          "text": [
            "✅ Qualifying 2022 data uploaded to PostgreSQL (raw schema) successfully.\n"
          ]
        }
      ],
      "source": [
        "# Step 5: Save to SQL\n",
        "df_qualifying_2022.to_sql(\n",
        "    name=\"qualifying_results_2022\",\n",
        "    con=engine,\n",
        "    schema='raw',\n",
        "    if_exists='replace',\n",
        "    index=False\n",
        ")\n",
        "print(\"✅ Qualifying 2022 data uploaded to PostgreSQL (raw schema) successfully.\")"
      ]
    },
    {
      "cell_type": "code",
      "execution_count": 23,
      "metadata": {
        "id": "d5CidbWMVJo3"
      },
      "outputs": [],
      "source": [
        "# Step 1: Pull Race Results from F1 API (2022)\n",
        "url = \"https://ergast.com/api/f1/2022/results.json?limit=1000\"\n",
        "response = requests.get(url)\n",
        "data = response.json()"
      ]
    },
    {
      "cell_type": "code",
      "execution_count": 24,
      "metadata": {
        "id": "K-bh60G5Vawv"
      },
      "outputs": [],
      "source": [
        "# Step 2: Navigate to Race Results\n",
        "races = data['MRData']['RaceTable']['Races']"
      ]
    },
    {
      "cell_type": "code",
      "execution_count": 25,
      "metadata": {
        "id": "zrQSh16cVlxY"
      },
      "outputs": [],
      "source": [
        "# Step 3: Normalize the Race results\n",
        "race_data_2022 = []\n",
        "for race in races:\n",
        "    for result in race['Results']:\n",
        "        race_data_2022.append({\n",
        "            'season': race['season'],\n",
        "            'round': race['round'],\n",
        "            'race_name': race['raceName'],\n",
        "            'circuit': race['Circuit']['circuitName'],\n",
        "            'date': race['date'],\n",
        "            'driver': result['Driver']['familyName'],\n",
        "            'constructor': result['Constructor']['name'],\n",
        "            'grid': result['grid'],\n",
        "            'finish': result['position'],\n",
        "            'status': result['status'],\n",
        "            'points': result['points']\n",
        "        })"
      ]
    },
    {
      "cell_type": "code",
      "execution_count": 26,
      "metadata": {
        "colab": {
          "base_uri": "https://localhost:8080/",
          "height": 221
        },
        "id": "k6yz4KxfVqRv",
        "outputId": "8bff9c31-7519-42a5-ba14-3e4395c14dda"
      },
      "outputs": [
        {
          "data": {
            "text/html": [
              "<div>\n",
              "<style scoped>\n",
              "    .dataframe tbody tr th:only-of-type {\n",
              "        vertical-align: middle;\n",
              "    }\n",
              "\n",
              "    .dataframe tbody tr th {\n",
              "        vertical-align: top;\n",
              "    }\n",
              "\n",
              "    .dataframe thead th {\n",
              "        text-align: right;\n",
              "    }\n",
              "</style>\n",
              "<table border=\"1\" class=\"dataframe\">\n",
              "  <thead>\n",
              "    <tr style=\"text-align: right;\">\n",
              "      <th></th>\n",
              "      <th>season</th>\n",
              "      <th>round</th>\n",
              "      <th>race_name</th>\n",
              "      <th>circuit</th>\n",
              "      <th>date</th>\n",
              "      <th>driver</th>\n",
              "      <th>constructor</th>\n",
              "      <th>grid</th>\n",
              "      <th>finish</th>\n",
              "      <th>status</th>\n",
              "      <th>points</th>\n",
              "    </tr>\n",
              "  </thead>\n",
              "  <tbody>\n",
              "    <tr>\n",
              "      <th>0</th>\n",
              "      <td>2022</td>\n",
              "      <td>1</td>\n",
              "      <td>Bahrain Grand Prix</td>\n",
              "      <td>Bahrain International Circuit</td>\n",
              "      <td>2022-03-20</td>\n",
              "      <td>Leclerc</td>\n",
              "      <td>Ferrari</td>\n",
              "      <td>1</td>\n",
              "      <td>1</td>\n",
              "      <td>Finished</td>\n",
              "      <td>26</td>\n",
              "    </tr>\n",
              "    <tr>\n",
              "      <th>1</th>\n",
              "      <td>2022</td>\n",
              "      <td>1</td>\n",
              "      <td>Bahrain Grand Prix</td>\n",
              "      <td>Bahrain International Circuit</td>\n",
              "      <td>2022-03-20</td>\n",
              "      <td>Sainz</td>\n",
              "      <td>Ferrari</td>\n",
              "      <td>3</td>\n",
              "      <td>2</td>\n",
              "      <td>Finished</td>\n",
              "      <td>18</td>\n",
              "    </tr>\n",
              "    <tr>\n",
              "      <th>2</th>\n",
              "      <td>2022</td>\n",
              "      <td>1</td>\n",
              "      <td>Bahrain Grand Prix</td>\n",
              "      <td>Bahrain International Circuit</td>\n",
              "      <td>2022-03-20</td>\n",
              "      <td>Hamilton</td>\n",
              "      <td>Mercedes</td>\n",
              "      <td>5</td>\n",
              "      <td>3</td>\n",
              "      <td>Finished</td>\n",
              "      <td>15</td>\n",
              "    </tr>\n",
              "    <tr>\n",
              "      <th>3</th>\n",
              "      <td>2022</td>\n",
              "      <td>1</td>\n",
              "      <td>Bahrain Grand Prix</td>\n",
              "      <td>Bahrain International Circuit</td>\n",
              "      <td>2022-03-20</td>\n",
              "      <td>Russell</td>\n",
              "      <td>Mercedes</td>\n",
              "      <td>9</td>\n",
              "      <td>4</td>\n",
              "      <td>Finished</td>\n",
              "      <td>12</td>\n",
              "    </tr>\n",
              "    <tr>\n",
              "      <th>4</th>\n",
              "      <td>2022</td>\n",
              "      <td>1</td>\n",
              "      <td>Bahrain Grand Prix</td>\n",
              "      <td>Bahrain International Circuit</td>\n",
              "      <td>2022-03-20</td>\n",
              "      <td>Magnussen</td>\n",
              "      <td>Haas F1 Team</td>\n",
              "      <td>7</td>\n",
              "      <td>5</td>\n",
              "      <td>Finished</td>\n",
              "      <td>10</td>\n",
              "    </tr>\n",
              "  </tbody>\n",
              "</table>\n",
              "</div>"
            ],
            "text/plain": [
              "  season round           race_name                        circuit        date  \\\n",
              "0   2022     1  Bahrain Grand Prix  Bahrain International Circuit  2022-03-20   \n",
              "1   2022     1  Bahrain Grand Prix  Bahrain International Circuit  2022-03-20   \n",
              "2   2022     1  Bahrain Grand Prix  Bahrain International Circuit  2022-03-20   \n",
              "3   2022     1  Bahrain Grand Prix  Bahrain International Circuit  2022-03-20   \n",
              "4   2022     1  Bahrain Grand Prix  Bahrain International Circuit  2022-03-20   \n",
              "\n",
              "      driver   constructor grid finish    status points  \n",
              "0    Leclerc       Ferrari    1      1  Finished     26  \n",
              "1      Sainz       Ferrari    3      2  Finished     18  \n",
              "2   Hamilton      Mercedes    5      3  Finished     15  \n",
              "3    Russell      Mercedes    9      4  Finished     12  \n",
              "4  Magnussen  Haas F1 Team    7      5  Finished     10  "
            ]
          },
          "execution_count": 26,
          "metadata": {},
          "output_type": "execute_result"
        }
      ],
      "source": [
        "# Step 4: Create DataFrame and Save to CSV\n",
        "df_race_2022 = pd.DataFrame(race_data_2022)\n",
        "df_race_2022.head()"
      ]
    },
    {
      "cell_type": "code",
      "execution_count": 27,
      "metadata": {
        "colab": {
          "base_uri": "https://localhost:8080/"
        },
        "id": "XWbg-X1cWQzN",
        "outputId": "b7acc0da-7c19-4ad9-bba4-67c1f1fb473b"
      },
      "outputs": [
        {
          "name": "stdout",
          "output_type": "stream",
          "text": [
            "✅ Race 2022 data uploaded to PostgreSQL (raw schema) successfully.\n"
          ]
        }
      ],
      "source": [
        "# Step 5: Save 2022 Race Data to SQL\n",
        "df_race_2022.to_sql(\n",
        "    name=\"race_results_2022\",\n",
        "    con=engine,\n",
        "    schema='raw',\n",
        "    if_exists='replace',\n",
        "    index=False\n",
        ")\n",
        "print(\"✅ Race 2022 data uploaded to PostgreSQL (raw schema) successfully.\")"
      ]
    },
    {
      "cell_type": "code",
      "execution_count": 29,
      "metadata": {
        "colab": {
          "base_uri": "https://localhost:8080/"
        },
        "id": "mqzpx5UovVT_",
        "outputId": "d23da369-0727-4087-f1c1-81c423623b55"
      },
      "outputs": [
        {
          "name": "stdout",
          "output_type": "stream",
          "text": [
            "Status Code: 200\n",
            "Sample Keys: dict_keys(['MRData'])\n"
          ]
        }
      ],
      "source": [
        "# Step 1: Pull Qualifying Results from F1 API (2023)\n",
        "url = \"https://ergast.com/api/f1/2023/qualifying.json?limit=1000\"\n",
        "response = requests.get(url)\n",
        "print(\"Status Code:\", response.status_code)\n",
        "print(\"Sample Keys:\", response.json().keys())"
      ]
    },
    {
      "cell_type": "code",
      "execution_count": 30,
      "metadata": {
        "id": "5HQcZMm0QSRH"
      },
      "outputs": [],
      "source": [
        "# Step 2: Navigate to Race Results\n",
        "races = response.json()['MRData']['RaceTable']['Races']"
      ]
    },
    {
      "cell_type": "code",
      "execution_count": 31,
      "metadata": {
        "id": "HsVig8pTQUg6"
      },
      "outputs": [],
      "source": [
        "# Step 3: Normalize the qualifying results\n",
        "qualifying_data = []\n",
        "for race in races:\n",
        "    for result in race['QualifyingResults']:\n",
        "        qualifying_data.append({\n",
        "            'season': race['season'],\n",
        "            'round': race['round'],\n",
        "            'race_name': race['raceName'],\n",
        "            'circuit': race['Circuit']['circuitName'],\n",
        "            'date': race['date'],\n",
        "            'driver': result['Driver']['familyName'],\n",
        "            'constructor': result['Constructor']['name'],\n",
        "            'position': result['position'],\n",
        "            'q1': result.get('Q1', None),\n",
        "            'q2': result.get('Q2', None),\n",
        "            'q3': result.get('Q3', None)\n",
        "        })"
      ]
    },
    {
      "cell_type": "code",
      "execution_count": 32,
      "metadata": {
        "colab": {
          "base_uri": "https://localhost:8080/",
          "height": 221
        },
        "id": "xohSJ9TIQW3I",
        "outputId": "9a9003b9-9d92-4231-e0c3-0675e4d68d9c"
      },
      "outputs": [
        {
          "data": {
            "text/html": [
              "<div>\n",
              "<style scoped>\n",
              "    .dataframe tbody tr th:only-of-type {\n",
              "        vertical-align: middle;\n",
              "    }\n",
              "\n",
              "    .dataframe tbody tr th {\n",
              "        vertical-align: top;\n",
              "    }\n",
              "\n",
              "    .dataframe thead th {\n",
              "        text-align: right;\n",
              "    }\n",
              "</style>\n",
              "<table border=\"1\" class=\"dataframe\">\n",
              "  <thead>\n",
              "    <tr style=\"text-align: right;\">\n",
              "      <th></th>\n",
              "      <th>season</th>\n",
              "      <th>round</th>\n",
              "      <th>race_name</th>\n",
              "      <th>circuit</th>\n",
              "      <th>date</th>\n",
              "      <th>driver</th>\n",
              "      <th>constructor</th>\n",
              "      <th>position</th>\n",
              "      <th>q1</th>\n",
              "      <th>q2</th>\n",
              "      <th>q3</th>\n",
              "    </tr>\n",
              "  </thead>\n",
              "  <tbody>\n",
              "    <tr>\n",
              "      <th>0</th>\n",
              "      <td>2023</td>\n",
              "      <td>1</td>\n",
              "      <td>Bahrain Grand Prix</td>\n",
              "      <td>Bahrain International Circuit</td>\n",
              "      <td>2023-03-05</td>\n",
              "      <td>Verstappen</td>\n",
              "      <td>Red Bull</td>\n",
              "      <td>1</td>\n",
              "      <td>1:31.295</td>\n",
              "      <td>1:30.503</td>\n",
              "      <td>1:29.708</td>\n",
              "    </tr>\n",
              "    <tr>\n",
              "      <th>1</th>\n",
              "      <td>2023</td>\n",
              "      <td>1</td>\n",
              "      <td>Bahrain Grand Prix</td>\n",
              "      <td>Bahrain International Circuit</td>\n",
              "      <td>2023-03-05</td>\n",
              "      <td>Pérez</td>\n",
              "      <td>Red Bull</td>\n",
              "      <td>2</td>\n",
              "      <td>1:31.479</td>\n",
              "      <td>1:30.746</td>\n",
              "      <td>1:29.846</td>\n",
              "    </tr>\n",
              "    <tr>\n",
              "      <th>2</th>\n",
              "      <td>2023</td>\n",
              "      <td>1</td>\n",
              "      <td>Bahrain Grand Prix</td>\n",
              "      <td>Bahrain International Circuit</td>\n",
              "      <td>2023-03-05</td>\n",
              "      <td>Leclerc</td>\n",
              "      <td>Ferrari</td>\n",
              "      <td>3</td>\n",
              "      <td>1:31.094</td>\n",
              "      <td>1:30.282</td>\n",
              "      <td>1:30.000</td>\n",
              "    </tr>\n",
              "    <tr>\n",
              "      <th>3</th>\n",
              "      <td>2023</td>\n",
              "      <td>1</td>\n",
              "      <td>Bahrain Grand Prix</td>\n",
              "      <td>Bahrain International Circuit</td>\n",
              "      <td>2023-03-05</td>\n",
              "      <td>Sainz</td>\n",
              "      <td>Ferrari</td>\n",
              "      <td>4</td>\n",
              "      <td>1:30.993</td>\n",
              "      <td>1:30.515</td>\n",
              "      <td>1:30.154</td>\n",
              "    </tr>\n",
              "    <tr>\n",
              "      <th>4</th>\n",
              "      <td>2023</td>\n",
              "      <td>1</td>\n",
              "      <td>Bahrain Grand Prix</td>\n",
              "      <td>Bahrain International Circuit</td>\n",
              "      <td>2023-03-05</td>\n",
              "      <td>Alonso</td>\n",
              "      <td>Aston Martin</td>\n",
              "      <td>5</td>\n",
              "      <td>1:31.158</td>\n",
              "      <td>1:30.645</td>\n",
              "      <td>1:30.336</td>\n",
              "    </tr>\n",
              "  </tbody>\n",
              "</table>\n",
              "</div>"
            ],
            "text/plain": [
              "  season round           race_name                        circuit        date  \\\n",
              "0   2023     1  Bahrain Grand Prix  Bahrain International Circuit  2023-03-05   \n",
              "1   2023     1  Bahrain Grand Prix  Bahrain International Circuit  2023-03-05   \n",
              "2   2023     1  Bahrain Grand Prix  Bahrain International Circuit  2023-03-05   \n",
              "3   2023     1  Bahrain Grand Prix  Bahrain International Circuit  2023-03-05   \n",
              "4   2023     1  Bahrain Grand Prix  Bahrain International Circuit  2023-03-05   \n",
              "\n",
              "       driver   constructor position        q1        q2        q3  \n",
              "0  Verstappen      Red Bull        1  1:31.295  1:30.503  1:29.708  \n",
              "1       Pérez      Red Bull        2  1:31.479  1:30.746  1:29.846  \n",
              "2     Leclerc       Ferrari        3  1:31.094  1:30.282  1:30.000  \n",
              "3       Sainz       Ferrari        4  1:30.993  1:30.515  1:30.154  \n",
              "4      Alonso  Aston Martin        5  1:31.158  1:30.645  1:30.336  "
            ]
          },
          "execution_count": 32,
          "metadata": {},
          "output_type": "execute_result"
        }
      ],
      "source": [
        "# Step 4: Create DataFrame\n",
        "df_qualifying = pd.DataFrame(qualifying_data)\n",
        "df_qualifying.head()"
      ]
    },
    {
      "cell_type": "code",
      "execution_count": 33,
      "metadata": {
        "colab": {
          "base_uri": "https://localhost:8080/"
        },
        "id": "XH5vY7cFwE5t",
        "outputId": "bc008c7c-6fc9-4312-940a-a7c3d2a4b729"
      },
      "outputs": [
        {
          "name": "stdout",
          "output_type": "stream",
          "text": [
            "✅ Qualifying 2023 data uploaded to PostgreSQL (raw schema) successfully.\n"
          ]
        }
      ],
      "source": [
        "# Step 5: Save 2023 Qualifying Data to SQL\n",
        "df_qualifying.to_sql(\n",
        "    name=\"qualifying_results_2023\",\n",
        "    con=engine,\n",
        "    schema='raw',\n",
        "    if_exists='replace',\n",
        "    index=False\n",
        ")\n",
        "print(\"✅ Qualifying 2023 data uploaded to PostgreSQL (raw schema) successfully.\")"
      ]
    },
    {
      "cell_type": "code",
      "execution_count": 34,
      "metadata": {
        "id": "16OInpM83Z9D"
      },
      "outputs": [],
      "source": [
        "# Step 1: Pull Race Results from F1 API (2023)\n",
        "url = \"https://ergast.com/api/f1/2023/results.json?limit=1000\"\n",
        "response = requests.get(url)\n",
        "data = response.json()"
      ]
    },
    {
      "cell_type": "code",
      "execution_count": 35,
      "metadata": {
        "id": "6e-Fdbrr3jkj"
      },
      "outputs": [],
      "source": [
        "# Step 2: Navigate to the race results\n",
        "races = data['MRData']['RaceTable']['Races']"
      ]
    },
    {
      "cell_type": "code",
      "execution_count": 36,
      "metadata": {
        "id": "tajNj4XS3qdr"
      },
      "outputs": [],
      "source": [
        "# Step 3: Normalize the race results\n",
        "race_data = []\n",
        "\n",
        "for race in races:\n",
        "    for result in race['Results']:\n",
        "        race_data.append({\n",
        "            'season': race['season'],\n",
        "            'round': race['round'],\n",
        "            'race_name': race['raceName'],\n",
        "            'circuit': race['Circuit']['circuitName'],\n",
        "            'date': race['date'],\n",
        "            'driver': result['Driver']['familyName'],\n",
        "            'constructor': result['Constructor']['name'],\n",
        "            'grid': result['grid'],          # Starting position\n",
        "            'finish': result['position'],    # Final result\n",
        "            'status': result['status'],      # Did not finish / finished / etc.\n",
        "            'points': result['points']       # Points earned\n",
        "        })"
      ]
    },
    {
      "cell_type": "code",
      "execution_count": 37,
      "metadata": {
        "colab": {
          "base_uri": "https://localhost:8080/",
          "height": 221
        },
        "id": "prwWdnqF3tdZ",
        "outputId": "1cab25a8-b058-46ef-fbdb-7c88f0b272b8"
      },
      "outputs": [
        {
          "data": {
            "text/html": [
              "<div>\n",
              "<style scoped>\n",
              "    .dataframe tbody tr th:only-of-type {\n",
              "        vertical-align: middle;\n",
              "    }\n",
              "\n",
              "    .dataframe tbody tr th {\n",
              "        vertical-align: top;\n",
              "    }\n",
              "\n",
              "    .dataframe thead th {\n",
              "        text-align: right;\n",
              "    }\n",
              "</style>\n",
              "<table border=\"1\" class=\"dataframe\">\n",
              "  <thead>\n",
              "    <tr style=\"text-align: right;\">\n",
              "      <th></th>\n",
              "      <th>season</th>\n",
              "      <th>round</th>\n",
              "      <th>race_name</th>\n",
              "      <th>circuit</th>\n",
              "      <th>date</th>\n",
              "      <th>driver</th>\n",
              "      <th>constructor</th>\n",
              "      <th>grid</th>\n",
              "      <th>finish</th>\n",
              "      <th>status</th>\n",
              "      <th>points</th>\n",
              "    </tr>\n",
              "  </thead>\n",
              "  <tbody>\n",
              "    <tr>\n",
              "      <th>0</th>\n",
              "      <td>2023</td>\n",
              "      <td>1</td>\n",
              "      <td>Bahrain Grand Prix</td>\n",
              "      <td>Bahrain International Circuit</td>\n",
              "      <td>2023-03-05</td>\n",
              "      <td>Verstappen</td>\n",
              "      <td>Red Bull</td>\n",
              "      <td>1</td>\n",
              "      <td>1</td>\n",
              "      <td>Finished</td>\n",
              "      <td>25</td>\n",
              "    </tr>\n",
              "    <tr>\n",
              "      <th>1</th>\n",
              "      <td>2023</td>\n",
              "      <td>1</td>\n",
              "      <td>Bahrain Grand Prix</td>\n",
              "      <td>Bahrain International Circuit</td>\n",
              "      <td>2023-03-05</td>\n",
              "      <td>Pérez</td>\n",
              "      <td>Red Bull</td>\n",
              "      <td>2</td>\n",
              "      <td>2</td>\n",
              "      <td>Finished</td>\n",
              "      <td>18</td>\n",
              "    </tr>\n",
              "    <tr>\n",
              "      <th>2</th>\n",
              "      <td>2023</td>\n",
              "      <td>1</td>\n",
              "      <td>Bahrain Grand Prix</td>\n",
              "      <td>Bahrain International Circuit</td>\n",
              "      <td>2023-03-05</td>\n",
              "      <td>Alonso</td>\n",
              "      <td>Aston Martin</td>\n",
              "      <td>5</td>\n",
              "      <td>3</td>\n",
              "      <td>Finished</td>\n",
              "      <td>15</td>\n",
              "    </tr>\n",
              "    <tr>\n",
              "      <th>3</th>\n",
              "      <td>2023</td>\n",
              "      <td>1</td>\n",
              "      <td>Bahrain Grand Prix</td>\n",
              "      <td>Bahrain International Circuit</td>\n",
              "      <td>2023-03-05</td>\n",
              "      <td>Sainz</td>\n",
              "      <td>Ferrari</td>\n",
              "      <td>4</td>\n",
              "      <td>4</td>\n",
              "      <td>Finished</td>\n",
              "      <td>12</td>\n",
              "    </tr>\n",
              "    <tr>\n",
              "      <th>4</th>\n",
              "      <td>2023</td>\n",
              "      <td>1</td>\n",
              "      <td>Bahrain Grand Prix</td>\n",
              "      <td>Bahrain International Circuit</td>\n",
              "      <td>2023-03-05</td>\n",
              "      <td>Hamilton</td>\n",
              "      <td>Mercedes</td>\n",
              "      <td>7</td>\n",
              "      <td>5</td>\n",
              "      <td>Finished</td>\n",
              "      <td>10</td>\n",
              "    </tr>\n",
              "  </tbody>\n",
              "</table>\n",
              "</div>"
            ],
            "text/plain": [
              "  season round           race_name                        circuit        date  \\\n",
              "0   2023     1  Bahrain Grand Prix  Bahrain International Circuit  2023-03-05   \n",
              "1   2023     1  Bahrain Grand Prix  Bahrain International Circuit  2023-03-05   \n",
              "2   2023     1  Bahrain Grand Prix  Bahrain International Circuit  2023-03-05   \n",
              "3   2023     1  Bahrain Grand Prix  Bahrain International Circuit  2023-03-05   \n",
              "4   2023     1  Bahrain Grand Prix  Bahrain International Circuit  2023-03-05   \n",
              "\n",
              "       driver   constructor grid finish    status points  \n",
              "0  Verstappen      Red Bull    1      1  Finished     25  \n",
              "1       Pérez      Red Bull    2      2  Finished     18  \n",
              "2      Alonso  Aston Martin    5      3  Finished     15  \n",
              "3       Sainz       Ferrari    4      4  Finished     12  \n",
              "4    Hamilton      Mercedes    7      5  Finished     10  "
            ]
          },
          "execution_count": 37,
          "metadata": {},
          "output_type": "execute_result"
        }
      ],
      "source": [
        "# Step 4: Create DataFrame\n",
        "df_race = pd.DataFrame(race_data)\n",
        "df_race.head()"
      ]
    },
    {
      "cell_type": "code",
      "execution_count": 38,
      "metadata": {
        "colab": {
          "base_uri": "https://localhost:8080/"
        },
        "id": "dmCuNv4i3uTw",
        "outputId": "3052fc4a-a1a9-4e20-e7c5-7b6e43c6c969"
      },
      "outputs": [
        {
          "name": "stdout",
          "output_type": "stream",
          "text": [
            "✅ Race 2023 data uploaded to PostgreSQL (raw schema) successfully.\n"
          ]
        }
      ],
      "source": [
        "# Step 5: Save 2023 Race Data to SQL\n",
        "df_race.to_sql(\n",
        "    name=\"race_results_2023\",\n",
        "    con=engine,\n",
        "    schema='raw',                  # ✅ target the 'raw' schema\n",
        "    if_exists='replace',\n",
        "    index=False\n",
        ")\n",
        "print(\"✅ Race 2023 data uploaded to PostgreSQL (raw schema) successfully.\")"
      ]
    }
  ],
  "metadata": {
    "colab": {
      "provenance": []
    },
    "kernelspec": {
      "display_name": "Python 3",
      "name": "python3"
    },
    "language_info": {
      "codemirror_mode": {
        "name": "ipython",
        "version": 3
      },
      "file_extension": ".py",
      "mimetype": "text/x-python",
      "name": "python",
      "nbconvert_exporter": "python",
      "pygments_lexer": "ipython3",
      "version": "3.12.1"
    }
  },
  "nbformat": 4,
  "nbformat_minor": 0
}
